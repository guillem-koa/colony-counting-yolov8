{
 "cells": [
  {
   "attachments": {},
   "cell_type": "markdown",
   "metadata": {},
   "source": [
    "# Inputs"
   ]
  },
  {
   "cell_type": "code",
   "execution_count": 1,
   "metadata": {},
   "outputs": [],
   "source": [
    "input_masks_dir = '/Users/guillemcobos/Downloads/project_colony_counting-2023_06_03_02_59_55-segmentation mask 1.1/SegmentationClass'"
   ]
  },
  {
   "cell_type": "code",
   "execution_count": 2,
   "metadata": {},
   "outputs": [],
   "source": [
    "data_as_cvat_tasks_dir = '/Users/guillemcobos/Library/CloudStorage/GoogleDrive-guillem.cobos@koabiotech.com/.shortcut-targets-by-id/1UQ_YnLRmoAqhCue-qXYNP9QhYorsiAxS/KOA Biotech/03. KOA DATA/Colony counting/colony-counting-yolov8/data.as.cvat.tasks/#177088 AAAAA'"
   ]
  },
  {
   "cell_type": "code",
   "execution_count": 3,
   "metadata": {},
   "outputs": [],
   "source": [
    "only_annotated_images = True"
   ]
  },
  {
   "attachments": {},
   "cell_type": "markdown",
   "metadata": {},
   "source": [
    "# Code"
   ]
  },
  {
   "cell_type": "code",
   "execution_count": 4,
   "metadata": {},
   "outputs": [
    {
     "name": "stdout",
     "output_type": "stream",
     "text": [
      "63 63\n"
     ]
    }
   ],
   "source": [
    "from imageannot_multilabel import create_yolo_annotations\n",
    "from sklearn.model_selection import train_test_split\n",
    "import shutil\n",
    "import os\n",
    "\n",
    "# This will create .txt annotations based on the segmentation masks at input_masks_dir\n",
    "create_yolo_annotations(input_masks_dir)\n",
    "\n",
    "# Copy task directory if it doesn't exist\n",
    "data_as_cvat_tasks_dir_copy = '/Users/guillemcobos/Library/CloudStorage/GoogleDrive-guillem.cobos@koabiotech.com/.shortcut-targets-by-id/1UQ_YnLRmoAqhCue-qXYNP9QhYorsiAxS/KOA Biotech/03. KOA DATA/Colony counting/colony-counting-yolov8/data.as.cvat.tasks/#177088 AAAAA copy'\n",
    "\n",
    "if not(os.path.exists(data_as_cvat_tasks_dir_copy)):\n",
    "    shutil.copytree(data_as_cvat_tasks_dir, data_as_cvat_tasks_dir_copy)\n",
    "\n",
    "# Copy those annotations into data_as_cvat_tasks_dir_copy\n",
    "annotation_files = [file for file in os.listdir(input_masks_dir) if file.endswith('.txt')]\n",
    "\n",
    "for file in annotation_files:\n",
    "    shutil.copy2(os.path.join(input_masks_dir, file), os.path.join(data_as_cvat_tasks_dir_copy, file))\n",
    "\n",
    "# Create empty .txt files for those images in data_as_cvat_tasks_dir_copy with no annotations\n",
    "files = os.listdir(data_as_cvat_tasks_dir_copy)\n",
    "pics = [os.path.splitext(file)[0] for file in files if file.endswith(('.jpeg', '.png', '.jpg'))]\n",
    "txts = [os.path.splitext(file)[0] for file in files if file.endswith('.txt')]\n",
    "txts = list(set(txts).intersection(pics))\n",
    "pics_with_no_annotations = list(set(pics) - set(txts))\n",
    "for file in pics_with_no_annotations:\n",
    "    file_path = os.path.join(data_as_cvat_tasks_dir_copy, file +'.txt')\n",
    "    # Create an empty text file\n",
    "    with open(file_path, 'w') as file:\n",
    "        pass\n",
    "\n",
    "if only_annotated_images == True:\n",
    "    # Execute the following block if training is to be done exclusively over\n",
    "    files = os.listdir(data_as_cvat_tasks_dir_copy)\n",
    "    pics = sorted([file for file in files if file.endswith(('.jpeg', '.png', '.jpg'))])\n",
    "    txts = sorted([file for file in files if file.endswith('.txt')])\n",
    "    annotated = list(set([os.path.splitext(pic)[0] for pic in pics]).intersection([os.path.splitext(txt)[0] for txt in txts if os.path.getsize(os.path.join(data_as_cvat_tasks_dir_copy, txt))!=0]))\n",
    "    pics = [name + '.jpeg' for name in annotated]\n",
    "    txts = [name + '.txt' for name in annotated]\n",
    "\n",
    "print(len(pics), len(txts))\n",
    "\n",
    "\n",
    "# From data.as.cvat.task directory to *yolo official data* directory\n",
    "# Splitting the data into training and testing sets\n",
    "pics_train, pics_val, labels_train, labels_val = train_test_split(pics, txts, test_size=0.2, random_state=20)\n",
    "\n",
    "for file in pics_train:\n",
    "    source_path = os.path.join(data_as_cvat_tasks_dir_copy, file)\n",
    "    destination_path = os.path.join(data_as_cvat_tasks_dir_copy + '/data/images/train/', file)\n",
    "    os.makedirs(os.path.dirname(destination_path), exist_ok=True)\n",
    "    shutil.copy2(source_path, destination_path)\n",
    "\n",
    "for file in pics_val:\n",
    "    source_path = os.path.join(data_as_cvat_tasks_dir_copy, file)\n",
    "    destination_path = os.path.join(data_as_cvat_tasks_dir_copy + '/data/images/val/', file)\n",
    "    os.makedirs(os.path.dirname(destination_path), exist_ok=True)\n",
    "    shutil.copy2(source_path, destination_path)\n",
    "\n",
    "for file in labels_train:\n",
    "    source_path = os.path.join(data_as_cvat_tasks_dir_copy, file)\n",
    "    destination_path = os.path.join(data_as_cvat_tasks_dir_copy + '/data/labels/train/', file)\n",
    "    os.makedirs(os.path.dirname(destination_path), exist_ok=True)\n",
    "    shutil.copy2(source_path, destination_path)\n",
    "\n",
    "for file in labels_val:\n",
    "    source_path = os.path.join(data_as_cvat_tasks_dir_copy, file)\n",
    "    destination_path = os.path.join(data_as_cvat_tasks_dir_copy + '/data/labels/val/', file)\n",
    "    os.makedirs(os.path.dirname(destination_path), exist_ok=True)\n",
    "    shutil.copy2(source_path, destination_path)"
   ]
  },
  {
   "cell_type": "code",
   "execution_count": null,
   "metadata": {},
   "outputs": [],
   "source": []
  }
 ],
 "metadata": {
  "kernelspec": {
   "display_name": "Python 3 (ipykernel)",
   "language": "python",
   "name": "python3"
  },
  "language_info": {
   "codemirror_mode": {
    "name": "ipython",
    "version": 3
   },
   "file_extension": ".py",
   "mimetype": "text/x-python",
   "name": "python",
   "nbconvert_exporter": "python",
   "pygments_lexer": "ipython3",
   "version": "3.11.3"
  }
 },
 "nbformat": 4,
 "nbformat_minor": 2
}
